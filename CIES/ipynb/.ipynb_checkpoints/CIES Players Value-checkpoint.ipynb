{
 "cells": [
  {
   "cell_type": "code",
   "execution_count": 10,
   "metadata": {
    "ExecuteTime": {
     "end_time": "2018-10-18T00:55:47.350999Z",
     "start_time": "2018-10-18T00:55:46.702320Z"
    }
   },
   "outputs": [],
   "source": [
    "import time, requests, json\n",
    "\n",
    "from datetime import datetime\n",
    "from bs4 import BeautifulSoup\n",
    "\n",
    "from tqdm import tqdm, tqdm_notebook\n",
    "\n",
    "import pandas as pd\n",
    "import numpy as np\n",
    "\n",
    "\n",
    "report_dir = \"./report/\"\n",
    "log_dir = \"./log/\""
   ]
  },
  {
   "cell_type": "code",
   "execution_count": 3,
   "metadata": {
    "ExecuteTime": {
     "end_time": "2018-10-09T01:21:30.353024Z",
     "start_time": "2018-10-09T01:21:30.350021Z"
    }
   },
   "outputs": [],
   "source": [
    "#Scrapping Transfermarkt to get all the players names\n",
    "\n",
    "def get_scrapped_names_tfmarkt(url, log=False):\n",
    "    if log:\n",
    "        print(\"Scrapping Transfermarkt for players of target club\")\n",
    "        \n",
    "    page = requests.get(url,  headers={'User-Agent': 'Mozilla/5.0'}).content\n",
    "    soup = BeautifulSoup(page, \"lxml\")\n",
    "\n",
    "    names = []\n",
    "    \n",
    "    soup_table = soup.find(\"div\", {\"id\" : \"yw1\"}).find(\"table\")\n",
    "    \n",
    "    for td in soup_table.findAll(\"td\", {\"class\" : \"hauptlink\"}):\n",
    "        if 'rechts' not in td.attrs['class']:\n",
    "            names.append(td.find(\"div\").text)\n",
    "        \n",
    "    return names"
   ]
  },
  {
   "cell_type": "code",
   "execution_count": 4,
   "metadata": {
    "ExecuteTime": {
     "end_time": "2018-10-09T01:21:30.733388Z",
     "start_time": "2018-10-09T01:21:30.726392Z"
    }
   },
   "outputs": [],
   "source": [
    "#Using CIES hook to get player estimated values from last 12 months\n",
    "\n",
    "def get_report_from_cies(names, match_club, delay=1, log=False):\n",
    "    hook = \"http://prod.fo-pfpo.iad-informatique.com/ratings/web/services?method=searchPlayers&key={}\"\n",
    "\n",
    "    tuples = []\n",
    "    if log:\n",
    "        print(\"Associating each player from {} with its id in CIES database\".format(match_club))\n",
    "    for number, name in enumerate(tqdm_notebook(names)):\n",
    "        url = hook.format(name)\n",
    "        response = requests.get(url).content\n",
    "\n",
    "        ids = json.loads(response)\n",
    "\n",
    "        #if name is not found using complete name\n",
    "        if(isinstance(ids, list)):\n",
    "\n",
    "            #Use only a partial name\n",
    "            for split in reversed(name.split()):\n",
    "                url = hook.format(split)\n",
    "                response = requests.get(url).content \n",
    "\n",
    "                ids = json.loads(response)\n",
    "\n",
    "                if not isinstance(ids, list):\n",
    "                    break\n",
    "                \n",
    "            #If name is still not found, it needs human intervention to rework the file\n",
    "            if isinstance(ids, list):\n",
    "                #raise the flag that indicates a rework needed\n",
    "                tuples.append((name, None, None, response , False))\n",
    "                time.sleep(delay)\n",
    "                continue\n",
    "\n",
    "        response_ids = list(ids.keys())\n",
    "\n",
    "        response_clubs = []\n",
    "        response_names = []\n",
    "\n",
    "        #splitting string \"name (club)\" into two lists of names and clubs\n",
    "        for val in ids.values():\n",
    "            response_clubs.append(val[val.find(\"(\")+1:val.find(\")\")])\n",
    "            response_names.append(val[:val.find(\"(\")-1])\n",
    "\n",
    "        #if expected club if found then remove all the options\n",
    "        if match_club in response_clubs:\n",
    "            index = response_clubs.index(match_club) \n",
    "\n",
    "            response_clubs = response_clubs[index]\n",
    "            response_names = response_names[index]\n",
    "            response_ids = response_ids[index]\n",
    "            match_found = True\n",
    "\n",
    "        #else it needs human intervention to rework the file\n",
    "        else:\n",
    "            #rework needed flag\n",
    "            match_found = False\n",
    "\n",
    "\n",
    "        tuples.append((name,response_clubs, response_names, response_ids, match_found))\n",
    "        #delay to avoid DDOS and overuse of CIES server\n",
    "        time.sleep(delay)\n",
    "    \n",
    "    return pd.DataFrame(tuples, columns=[\"Nom\", \"json_clubs\", \"json_names\", \"json_ids\", \"NoIssue\"])"
   ]
  },
  {
   "cell_type": "code",
   "execution_count": 5,
   "metadata": {
    "ExecuteTime": {
     "end_time": "2018-10-09T01:21:31.330039Z",
     "start_time": "2018-10-09T01:21:31.324046Z"
    }
   },
   "outputs": [],
   "source": [
    "def get_all_team_values_cies(df_json, delay=1, period = 4, log=False):\n",
    "    hook = \"http://prod.fo-pfpo.iad-informatique.com/widget/transfertValuesView/en/{}?P_change=P1\"\n",
    "\n",
    "    mr_value_array = []\n",
    "    target_value_array = []\n",
    "\n",
    "    pd_mr_label = None\n",
    "    pd_target_label = None\n",
    "\n",
    "    none_array = []\n",
    "\n",
    "    if log:\n",
    "        print(\"Getting all the CIES values for each player\")\n",
    "    for idx in tqdm_notebook(df_json['json_ids']):\n",
    "        url  = hook.format(idx)\n",
    "        page = requests.get(url).content\n",
    "        soup = BeautifulSoup(page, \"lxml\")\n",
    "\n",
    "\n",
    "\n",
    "        div =  soup.find(\"div\", {\"id\" : \"content\"})\n",
    "        graph_data = json.loads(div[\"graph-data\"])\n",
    "        cies_values = graph_data[\"data\"]\n",
    "        cies_labels = graph_data[\"labels\"][:-1]\n",
    "\n",
    "        target_label = \"{:02d}/{}\".format(int(cies_labels[-1].split(\"/\")[0])-4,\n",
    "                                        cies_labels[-1].split(\"/\")[1])\n",
    "        target_value = cies_values[-1-period]\n",
    "\n",
    "        most_recent_value = cies_values[-1]\n",
    "        most_recent_label = cies_labels[-1]\n",
    "\n",
    "        none_bool = False if (target_value is None or most_recent_value is None) else True\n",
    "\n",
    "        if pd_mr_label is None :\n",
    "            pd_mr_label = most_recent_label \n",
    "            pd_target_label = target_label \n",
    "\n",
    "\n",
    "        mr_value_array.append(most_recent_value)\n",
    "        target_value_array.append(target_value)\n",
    "\n",
    "\n",
    "        none_array.append(none_bool)\n",
    "\n",
    "        time.sleep(delay)\n",
    "        \n",
    "    return df_json.assign(**{pd_target_label : np.array(target_value_array), \n",
    "                pd_mr_label : np.array(mr_value_array),\n",
    "                \"HasData\" : none_array})"
   ]
  },
  {
   "cell_type": "code",
   "execution_count": 6,
   "metadata": {
    "ExecuteTime": {
     "end_time": "2018-10-09T01:21:32.095893Z",
     "start_time": "2018-10-09T01:21:32.093890Z"
    }
   },
   "outputs": [],
   "source": [
    "def get_human_report(df_json):\n",
    "    filtered_df = df_json[df_json[\"HasData\"]]\n",
    "    final_df = filtered_df.drop([\"json_clubs\", \"json_names\", \"json_ids\", \"NoIssue\", \"HasData\"], axis = 1)\n",
    "        \n",
    "    return final_df\n",
    "\n",
    "def export_df_cies(df_json):\n",
    "    None\n",
    "    #placeholder"
   ]
  },
  {
   "cell_type": "code",
   "execution_count": null,
   "metadata": {},
   "outputs": [],
   "source": []
  },
  {
   "cell_type": "code",
   "execution_count": 6,
   "metadata": {
    "ExecuteTime": {
     "end_time": "2018-10-08T19:24:44.258798Z",
     "start_time": "2018-10-08T19:23:15.573017Z"
    },
    "scrolled": true
   },
   "outputs": [
    {
     "data": {
      "application/vnd.jupyter.widget-view+json": {
       "model_id": "422064c00af1496a8ce693af924b2c09",
       "version_major": 2,
       "version_minor": 0
      },
      "text/plain": [
       "HBox(children=(IntProgress(value=0, max=27), HTML(value='')))"
      ]
     },
     "metadata": {},
     "output_type": "display_data"
    },
    {
     "name": "stdout",
     "output_type": "stream",
     "text": [
      "\n"
     ]
    },
    {
     "data": {
      "application/vnd.jupyter.widget-view+json": {
       "model_id": "ddec91af9d2044efb365fe9c50d10dab",
       "version_major": 2,
       "version_minor": 0
      },
      "text/plain": [
       "HBox(children=(IntProgress(value=0, max=27), HTML(value='')))"
      ]
     },
     "metadata": {},
     "output_type": "display_data"
    },
    {
     "name": "stdout",
     "output_type": "stream",
     "text": [
      "\n"
     ]
    },
    {
     "data": {
      "text/html": [
       "<div>\n",
       "<style scoped>\n",
       "    .dataframe tbody tr th:only-of-type {\n",
       "        vertical-align: middle;\n",
       "    }\n",
       "\n",
       "    .dataframe tbody tr th {\n",
       "        vertical-align: top;\n",
       "    }\n",
       "\n",
       "    .dataframe thead th {\n",
       "        text-align: right;\n",
       "    }\n",
       "</style>\n",
       "<table border=\"1\" class=\"dataframe\">\n",
       "  <thead>\n",
       "    <tr style=\"text-align: right;\">\n",
       "      <th></th>\n",
       "      <th>Nom</th>\n",
       "      <th>json_clubs</th>\n",
       "      <th>06/2018</th>\n",
       "      <th>10/2018</th>\n",
       "    </tr>\n",
       "  </thead>\n",
       "  <tbody>\n",
       "    <tr>\n",
       "      <th>0</th>\n",
       "      <td>Anthony Lopes</td>\n",
       "      <td>Olympique Lyonnais</td>\n",
       "      <td>17.0</td>\n",
       "      <td>17.2</td>\n",
       "    </tr>\n",
       "    <tr>\n",
       "      <th>1</th>\n",
       "      <td>Mathieu Gorgelin</td>\n",
       "      <td>Olympique Lyonnais</td>\n",
       "      <td>1.1</td>\n",
       "      <td>1.3</td>\n",
       "    </tr>\n",
       "    <tr>\n",
       "      <th>2</th>\n",
       "      <td>Anthony Racioppi</td>\n",
       "      <td>Olympique Lyonnais</td>\n",
       "      <td>1.6</td>\n",
       "      <td>1.7</td>\n",
       "    </tr>\n",
       "    <tr>\n",
       "      <th>3</th>\n",
       "      <td>Marcelo</td>\n",
       "      <td>Olympique Lyonnais</td>\n",
       "      <td>9.2</td>\n",
       "      <td>10.7</td>\n",
       "    </tr>\n",
       "    <tr>\n",
       "      <th>5</th>\n",
       "      <td>Mapou Yanga-Mbiwa</td>\n",
       "      <td>Olympique Lyonnais</td>\n",
       "      <td>4.5</td>\n",
       "      <td>2.8</td>\n",
       "    </tr>\n",
       "    <tr>\n",
       "      <th>6</th>\n",
       "      <td>Oumar Solet</td>\n",
       "      <td>Olympique Lyonnais</td>\n",
       "      <td>1.8</td>\n",
       "      <td>3.0</td>\n",
       "    </tr>\n",
       "    <tr>\n",
       "      <th>7</th>\n",
       "      <td>Jérémy Morel</td>\n",
       "      <td>Olympique Lyonnais</td>\n",
       "      <td>2.5</td>\n",
       "      <td>2.6</td>\n",
       "    </tr>\n",
       "    <tr>\n",
       "      <th>8</th>\n",
       "      <td>Ferland Mendy</td>\n",
       "      <td>Olympique Lyonnais</td>\n",
       "      <td>11.3</td>\n",
       "      <td>21.0</td>\n",
       "    </tr>\n",
       "    <tr>\n",
       "      <th>9</th>\n",
       "      <td>Marçal</td>\n",
       "      <td>Olympique Lyonnais</td>\n",
       "      <td>2.8</td>\n",
       "      <td>2.5</td>\n",
       "    </tr>\n",
       "    <tr>\n",
       "      <th>10</th>\n",
       "      <td>Léo Dubois</td>\n",
       "      <td>Olympique Lyonnais</td>\n",
       "      <td>0.0</td>\n",
       "      <td>11.6</td>\n",
       "    </tr>\n",
       "    <tr>\n",
       "      <th>11</th>\n",
       "      <td>Rafael</td>\n",
       "      <td>Olympique Lyonnais</td>\n",
       "      <td>4.8</td>\n",
       "      <td>4.6</td>\n",
       "    </tr>\n",
       "    <tr>\n",
       "      <th>12</th>\n",
       "      <td>Kenny Tete</td>\n",
       "      <td>Olympique Lyonnais</td>\n",
       "      <td>12.0</td>\n",
       "      <td>10.7</td>\n",
       "    </tr>\n",
       "    <tr>\n",
       "      <th>13</th>\n",
       "      <td>Lucas Tousart</td>\n",
       "      <td>Olympique Lyonnais</td>\n",
       "      <td>41.8</td>\n",
       "      <td>44.3</td>\n",
       "    </tr>\n",
       "    <tr>\n",
       "      <th>14</th>\n",
       "      <td>Houssem Aouar</td>\n",
       "      <td>Olympique Lyonnais</td>\n",
       "      <td>45.4</td>\n",
       "      <td>67.3</td>\n",
       "    </tr>\n",
       "    <tr>\n",
       "      <th>15</th>\n",
       "      <td>Tanguy Ndombélé</td>\n",
       "      <td>Olympique Lyonnais</td>\n",
       "      <td>36.8</td>\n",
       "      <td>53.5</td>\n",
       "    </tr>\n",
       "    <tr>\n",
       "      <th>16</th>\n",
       "      <td>Jordan Ferri</td>\n",
       "      <td>Olympique Lyonnais</td>\n",
       "      <td>2.4</td>\n",
       "      <td>2.1</td>\n",
       "    </tr>\n",
       "    <tr>\n",
       "      <th>17</th>\n",
       "      <td>Pape Cheikh</td>\n",
       "      <td>Olympique Lyonnais</td>\n",
       "      <td>4.8</td>\n",
       "      <td>5.0</td>\n",
       "    </tr>\n",
       "    <tr>\n",
       "      <th>19</th>\n",
       "      <td>Nabil Fekir</td>\n",
       "      <td>Olympique Lyonnais</td>\n",
       "      <td>61.2</td>\n",
       "      <td>54.3</td>\n",
       "    </tr>\n",
       "    <tr>\n",
       "      <th>20</th>\n",
       "      <td>Memphis Depay</td>\n",
       "      <td>Olympique Lyonnais</td>\n",
       "      <td>69.8</td>\n",
       "      <td>80.2</td>\n",
       "    </tr>\n",
       "    <tr>\n",
       "      <th>21</th>\n",
       "      <td>Martin Terrier</td>\n",
       "      <td>Olympique Lyonnais</td>\n",
       "      <td>8.3</td>\n",
       "      <td>15.2</td>\n",
       "    </tr>\n",
       "    <tr>\n",
       "      <th>23</th>\n",
       "      <td>Bertrand Traoré</td>\n",
       "      <td>Olympique Lyonnais</td>\n",
       "      <td>49.7</td>\n",
       "      <td>66.7</td>\n",
       "    </tr>\n",
       "    <tr>\n",
       "      <th>24</th>\n",
       "      <td>Maxwel Cornet</td>\n",
       "      <td>Olympique Lyonnais</td>\n",
       "      <td>15.5</td>\n",
       "      <td>15.1</td>\n",
       "    </tr>\n",
       "    <tr>\n",
       "      <th>26</th>\n",
       "      <td>Amine Gouiri</td>\n",
       "      <td>Olympique Lyonnais</td>\n",
       "      <td>3.5</td>\n",
       "      <td>4.3</td>\n",
       "    </tr>\n",
       "  </tbody>\n",
       "</table>\n",
       "</div>"
      ],
      "text/plain": [
       "                  Nom          json_clubs 06/2018 10/2018\n",
       "0       Anthony Lopes  Olympique Lyonnais    17.0    17.2\n",
       "1    Mathieu Gorgelin  Olympique Lyonnais     1.1     1.3\n",
       "2    Anthony Racioppi  Olympique Lyonnais     1.6     1.7\n",
       "3             Marcelo  Olympique Lyonnais     9.2    10.7\n",
       "5   Mapou Yanga-Mbiwa  Olympique Lyonnais     4.5     2.8\n",
       "6         Oumar Solet  Olympique Lyonnais     1.8     3.0\n",
       "7        Jérémy Morel  Olympique Lyonnais     2.5     2.6\n",
       "8       Ferland Mendy  Olympique Lyonnais    11.3    21.0\n",
       "9              Marçal  Olympique Lyonnais     2.8     2.5\n",
       "10         Léo Dubois  Olympique Lyonnais     0.0    11.6\n",
       "11             Rafael  Olympique Lyonnais     4.8     4.6\n",
       "12         Kenny Tete  Olympique Lyonnais    12.0    10.7\n",
       "13      Lucas Tousart  Olympique Lyonnais    41.8    44.3\n",
       "14      Houssem Aouar  Olympique Lyonnais    45.4    67.3\n",
       "15    Tanguy Ndombélé  Olympique Lyonnais    36.8    53.5\n",
       "16       Jordan Ferri  Olympique Lyonnais     2.4     2.1\n",
       "17        Pape Cheikh  Olympique Lyonnais     4.8     5.0\n",
       "19        Nabil Fekir  Olympique Lyonnais    61.2    54.3\n",
       "20      Memphis Depay  Olympique Lyonnais    69.8    80.2\n",
       "21     Martin Terrier  Olympique Lyonnais     8.3    15.2\n",
       "23    Bertrand Traoré  Olympique Lyonnais    49.7    66.7\n",
       "24      Maxwel Cornet  Olympique Lyonnais    15.5    15.1\n",
       "26       Amine Gouiri  Olympique Lyonnais     3.5     4.3"
      ]
     },
     "execution_count": 6,
     "metadata": {},
     "output_type": "execute_result"
    }
   ],
   "source": [
    "names = get_scrapped_names_tfmarkt(url=\"https://www.transfermarkt.fr/olympique-lyon/startseite/verein/1041\")\n",
    "\n",
    "df_json = get_report_from_cies(names, match_club = \"Olympique Lyonnais\")\n",
    "\n",
    "#Export file as CSV (so that file can be reworked if needed)\n",
    "#df_json\n",
    "\n",
    "df_copy = get_all_team_values_cies(df_json)\n",
    "\n",
    "final_df = get_human_report(df_copy)\n",
    "final_df"
   ]
  },
  {
   "cell_type": "code",
   "execution_count": 7,
   "metadata": {
    "ExecuteTime": {
     "end_time": "2018-10-09T01:22:15.886281Z",
     "start_time": "2018-10-09T01:21:34.407244Z"
    }
   },
   "outputs": [
    {
     "name": "stdout",
     "output_type": "stream",
     "text": [
      "Scrapping Transfermarkt for players of target club\n",
      "Associating each player from Olympique de Marseille with its id in CIES database\n"
     ]
    },
    {
     "data": {
      "application/vnd.jupyter.widget-view+json": {
       "model_id": "0703a109a04e4dea9320d3a7592ebd29",
       "version_major": 2,
       "version_minor": 0
      },
      "text/plain": [
       "HBox(children=(IntProgress(value=0, max=29), HTML(value='')))"
      ]
     },
     "metadata": {},
     "output_type": "display_data"
    },
    {
     "name": "stdout",
     "output_type": "stream",
     "text": [
      "Duje ----- Duje Caleta-Car\n",
      "out\n",
      "\n"
     ]
    }
   ],
   "source": [
    "def generate_pre_report_cies(target_club, url_tfmarkt):\n",
    "\n",
    "\n",
    "    names = get_scrapped_names_tfmarkt(url=url_tfmarkt, log=True)\n",
    "\n",
    "    df_json = get_report_from_cies(names, match_club = target_club, log=True)\n",
    "\n",
    "    #Export file as CSV (so that file can be reworked if needed)\n",
    "    #logging\n",
    "    df_json.to_csv(log_dir + \"test.csv\", index=False)\n",
    "    \n",
    "    return df_json\n",
    "\n",
    "def generate_human_report_cies(df_json, target_club):\n",
    "    df_copy = get_all_team_values_cies(df_json[df_json[\"NoIssue\"]], log=True)\n",
    "\n",
    "    final_df = get_human_report(df_copy)\n",
    "\n",
    "    filename =  datetime.now().strftime(\"%d-%m-%Y_%H%M%S-{}.csv\").format(target_club)\n",
    "    final_df.to_csv(report_dir + filename)\n",
    "\n",
    "    return final_df\n",
    "\n"
   ]
  },
  {
   "cell_type": "code",
   "execution_count": 68,
   "metadata": {
    "ExecuteTime": {
     "end_time": "2018-10-18T23:36:16.229794Z",
     "start_time": "2018-10-18T23:36:16.225778Z"
    }
   },
   "outputs": [
    {
     "data": {
      "text/plain": [
       "False"
      ]
     },
     "execution_count": 68,
     "metadata": {},
     "output_type": "execute_result"
    }
   ],
   "source": [
    "z = True\n",
    "z &= False\n",
    "z"
   ]
  },
  {
   "cell_type": "code",
   "execution_count": 64,
   "metadata": {
    "ExecuteTime": {
     "end_time": "2018-10-18T23:35:03.142808Z",
     "start_time": "2018-10-18T23:35:03.138802Z"
    }
   },
   "outputs": [
    {
     "data": {
      "text/plain": [
       "True"
      ]
     },
     "execution_count": 64,
     "metadata": {},
     "output_type": "execute_result"
    }
   ],
   "source": [
    "d = [1,2,3]\n",
    "not(np.all(d == None))"
   ]
  },
  {
   "cell_type": "code",
   "execution_count": 38,
   "metadata": {
    "ExecuteTime": {
     "end_time": "2018-10-18T22:43:59.227494Z",
     "start_time": "2018-10-18T22:43:59.225493Z"
    }
   },
   "outputs": [],
   "source": [
    "import numpy as np\n",
    "import pandas as pd\n"
   ]
  },
  {
   "cell_type": "code",
   "execution_count": 41,
   "metadata": {
    "ExecuteTime": {
     "end_time": "2018-10-18T22:44:21.230511Z",
     "start_time": "2018-10-18T22:44:21.223517Z"
    }
   },
   "outputs": [
    {
     "data": {
      "text/html": [
       "<div>\n",
       "<style scoped>\n",
       "    .dataframe tbody tr th:only-of-type {\n",
       "        vertical-align: middle;\n",
       "    }\n",
       "\n",
       "    .dataframe tbody tr th {\n",
       "        vertical-align: top;\n",
       "    }\n",
       "\n",
       "    .dataframe thead th {\n",
       "        text-align: right;\n",
       "    }\n",
       "</style>\n",
       "<table border=\"1\" class=\"dataframe\">\n",
       "  <thead>\n",
       "    <tr style=\"text-align: right;\">\n",
       "      <th></th>\n",
       "      <th>0</th>\n",
       "      <th>1</th>\n",
       "      <th>2</th>\n",
       "    </tr>\n",
       "  </thead>\n",
       "  <tbody>\n",
       "    <tr>\n",
       "      <th>0</th>\n",
       "      <td>4</td>\n",
       "      <td>5</td>\n",
       "      <td>5</td>\n",
       "    </tr>\n",
       "    <tr>\n",
       "      <th>1</th>\n",
       "      <td>5</td>\n",
       "      <td>6</td>\n",
       "      <td>8</td>\n",
       "    </tr>\n",
       "  </tbody>\n",
       "</table>\n",
       "</div>"
      ],
      "text/plain": [
       "   0  1  2\n",
       "0  4  5  5\n",
       "1  5  6  8"
      ]
     },
     "execution_count": 41,
     "metadata": {},
     "output_type": "execute_result"
    }
   ],
   "source": [
    "a =  pd.DataFrame(np.array([[4,5,5],[5,6,8]]))\n",
    "a"
   ]
  },
  {
   "cell_type": "code",
   "execution_count": 42,
   "metadata": {
    "ExecuteTime": {
     "end_time": "2018-10-18T22:47:14.920498Z",
     "start_time": "2018-10-18T22:47:14.912478Z"
    }
   },
   "outputs": [
    {
     "ename": "TypeError",
     "evalue": "data type \"test2\" not understood",
     "output_type": "error",
     "traceback": [
      "\u001b[1;31m---------------------------------------------------------------------------\u001b[0m",
      "\u001b[1;31mTypeError\u001b[0m                                 Traceback (most recent call last)",
      "\u001b[1;32m<ipython-input-42-9df2cf628765>\u001b[0m in \u001b[0;36m<module>\u001b[1;34m()\u001b[0m\n\u001b[1;32m----> 1\u001b[1;33m \u001b[0ma\u001b[0m\u001b[1;33m.\u001b[0m\u001b[0massign\u001b[0m\u001b[1;33m(\u001b[0m\u001b[1;33m**\u001b[0m\u001b[1;33m{\u001b[0m\u001b[0mnp\u001b[0m\u001b[1;33m.\u001b[0m\u001b[0marray\u001b[0m\u001b[1;33m(\u001b[0m\u001b[1;34m\"test\"\u001b[0m\u001b[1;33m,\u001b[0m \u001b[1;34m\"test2\"\u001b[0m\u001b[1;33m)\u001b[0m \u001b[1;33m:\u001b[0m  \u001b[0mnp\u001b[0m\u001b[1;33m.\u001b[0m\u001b[0marray\u001b[0m\u001b[1;33m(\u001b[0m\u001b[1;33m[\u001b[0m\u001b[1;33m[\u001b[0m\u001b[1;34m\"lol\"\u001b[0m\u001b[1;33m,\u001b[0m \u001b[1;34m\"lol\"\u001b[0m\u001b[1;33m]\u001b[0m\u001b[1;33m,\u001b[0m\u001b[1;33m[\u001b[0m\u001b[1;34m\"lal\"\u001b[0m\u001b[1;33m,\u001b[0m \u001b[1;34m\"lal\"\u001b[0m\u001b[1;33m]\u001b[0m\u001b[1;33m]\u001b[0m\u001b[1;33m)\u001b[0m\u001b[1;33m}\u001b[0m\u001b[1;33m)\u001b[0m\u001b[1;33m\u001b[0m\u001b[0m\n\u001b[0m",
      "\u001b[1;31mTypeError\u001b[0m: data type \"test2\" not understood"
     ]
    }
   ],
   "source": [
    "a.assign(**{np.array(\"test\", \"test2\") :  np.array([[\"lol\", \"lol\"],[\"lal\", \"lal\"]])})"
   ]
  },
  {
   "cell_type": "code",
   "execution_count": 43,
   "metadata": {
    "ExecuteTime": {
     "end_time": "2018-10-18T22:52:21.449989Z",
     "start_time": "2018-10-18T22:52:21.445985Z"
    }
   },
   "outputs": [],
   "source": [
    "a = ['06/2018', '01/2018']\n",
    "b = [['17.0', '20.5'], ['1.1', '0.9'], ['1.6', '0.9'], ['9.2', '7.5'], [None, None], ['4.5', '8.3'], ['1.8', '2.1'], ['2.5', '2.3'], ['11.3', '4.4'], ['2.8', '3.9'], ['0.0', '3.0'], ['4.8', '5.5'], ['12.0', '12.2'], ['41.8', '37.4'], ['45.4', '12.4'], ['36.8', '9.4'], ['2.4', '3.8'], ['4.8', '4.3'], [None, None], ['61.2', '60.7'], ['69.8', '42.3'], ['8.3', '3.8'], [None, None], ['49.7', '22.2'], ['15.5', '23.0'], [None, None], ['3.5', None]]"
   ]
  },
  {
   "cell_type": "code",
   "execution_count": 44,
   "metadata": {
    "ExecuteTime": {
     "end_time": "2018-10-18T22:52:21.684984Z",
     "start_time": "2018-10-18T22:52:21.674975Z"
    }
   },
   "outputs": [
    {
     "name": "stdout",
     "output_type": "stream",
     "text": [
      "['06/2018', '01/2018']\n",
      "[['17.0', '20.5'], ['1.1', '0.9'], ['1.6', '0.9'], ['9.2', '7.5'], [None, None], ['4.5', '8.3'], ['1.8', '2.1'], ['2.5', '2.3'], ['11.3', '4.4'], ['2.8', '3.9'], ['0.0', '3.0'], ['4.8', '5.5'], ['12.0', '12.2'], ['41.8', '37.4'], ['45.4', '12.4'], ['36.8', '9.4'], ['2.4', '3.8'], ['4.8', '4.3'], [None, None], ['61.2', '60.7'], ['69.8', '42.3'], ['8.3', '3.8'], [None, None], ['49.7', '22.2'], ['15.5', '23.0'], [None, None], ['3.5', None]]\n"
     ]
    }
   ],
   "source": [
    "print(a)\n",
    "print(b)"
   ]
  },
  {
   "cell_type": "code",
   "execution_count": 46,
   "metadata": {
    "ExecuteTime": {
     "end_time": "2018-10-18T22:53:16.791062Z",
     "start_time": "2018-10-18T22:53:16.779051Z"
    }
   },
   "outputs": [
    {
     "data": {
      "text/html": [
       "<div>\n",
       "<style scoped>\n",
       "    .dataframe tbody tr th:only-of-type {\n",
       "        vertical-align: middle;\n",
       "    }\n",
       "\n",
       "    .dataframe tbody tr th {\n",
       "        vertical-align: top;\n",
       "    }\n",
       "\n",
       "    .dataframe thead th {\n",
       "        text-align: right;\n",
       "    }\n",
       "</style>\n",
       "<table border=\"1\" class=\"dataframe\">\n",
       "  <thead>\n",
       "    <tr style=\"text-align: right;\">\n",
       "      <th></th>\n",
       "      <th>06/2018</th>\n",
       "      <th>01/2018</th>\n",
       "      <th>HasData</th>\n",
       "    </tr>\n",
       "  </thead>\n",
       "  <tbody>\n",
       "    <tr>\n",
       "      <th>0</th>\n",
       "      <td>17.0</td>\n",
       "      <td>20.5</td>\n",
       "      <td>True</td>\n",
       "    </tr>\n",
       "    <tr>\n",
       "      <th>1</th>\n",
       "      <td>1.1</td>\n",
       "      <td>0.9</td>\n",
       "      <td>True</td>\n",
       "    </tr>\n",
       "    <tr>\n",
       "      <th>2</th>\n",
       "      <td>1.6</td>\n",
       "      <td>0.9</td>\n",
       "      <td>True</td>\n",
       "    </tr>\n",
       "    <tr>\n",
       "      <th>3</th>\n",
       "      <td>9.2</td>\n",
       "      <td>7.5</td>\n",
       "      <td>True</td>\n",
       "    </tr>\n",
       "    <tr>\n",
       "      <th>4</th>\n",
       "      <td>None</td>\n",
       "      <td>None</td>\n",
       "      <td>False</td>\n",
       "    </tr>\n",
       "    <tr>\n",
       "      <th>5</th>\n",
       "      <td>4.5</td>\n",
       "      <td>8.3</td>\n",
       "      <td>True</td>\n",
       "    </tr>\n",
       "    <tr>\n",
       "      <th>6</th>\n",
       "      <td>1.8</td>\n",
       "      <td>2.1</td>\n",
       "      <td>True</td>\n",
       "    </tr>\n",
       "    <tr>\n",
       "      <th>7</th>\n",
       "      <td>2.5</td>\n",
       "      <td>2.3</td>\n",
       "      <td>True</td>\n",
       "    </tr>\n",
       "    <tr>\n",
       "      <th>8</th>\n",
       "      <td>11.3</td>\n",
       "      <td>4.4</td>\n",
       "      <td>True</td>\n",
       "    </tr>\n",
       "    <tr>\n",
       "      <th>9</th>\n",
       "      <td>2.8</td>\n",
       "      <td>3.9</td>\n",
       "      <td>True</td>\n",
       "    </tr>\n",
       "    <tr>\n",
       "      <th>10</th>\n",
       "      <td>0.0</td>\n",
       "      <td>3.0</td>\n",
       "      <td>True</td>\n",
       "    </tr>\n",
       "    <tr>\n",
       "      <th>11</th>\n",
       "      <td>4.8</td>\n",
       "      <td>5.5</td>\n",
       "      <td>True</td>\n",
       "    </tr>\n",
       "    <tr>\n",
       "      <th>12</th>\n",
       "      <td>12.0</td>\n",
       "      <td>12.2</td>\n",
       "      <td>True</td>\n",
       "    </tr>\n",
       "    <tr>\n",
       "      <th>13</th>\n",
       "      <td>41.8</td>\n",
       "      <td>37.4</td>\n",
       "      <td>True</td>\n",
       "    </tr>\n",
       "    <tr>\n",
       "      <th>14</th>\n",
       "      <td>45.4</td>\n",
       "      <td>12.4</td>\n",
       "      <td>True</td>\n",
       "    </tr>\n",
       "    <tr>\n",
       "      <th>15</th>\n",
       "      <td>36.8</td>\n",
       "      <td>9.4</td>\n",
       "      <td>True</td>\n",
       "    </tr>\n",
       "    <tr>\n",
       "      <th>16</th>\n",
       "      <td>2.4</td>\n",
       "      <td>3.8</td>\n",
       "      <td>True</td>\n",
       "    </tr>\n",
       "    <tr>\n",
       "      <th>17</th>\n",
       "      <td>4.8</td>\n",
       "      <td>4.3</td>\n",
       "      <td>True</td>\n",
       "    </tr>\n",
       "    <tr>\n",
       "      <th>18</th>\n",
       "      <td>None</td>\n",
       "      <td>None</td>\n",
       "      <td>False</td>\n",
       "    </tr>\n",
       "    <tr>\n",
       "      <th>19</th>\n",
       "      <td>61.2</td>\n",
       "      <td>60.7</td>\n",
       "      <td>True</td>\n",
       "    </tr>\n",
       "    <tr>\n",
       "      <th>20</th>\n",
       "      <td>69.8</td>\n",
       "      <td>42.3</td>\n",
       "      <td>True</td>\n",
       "    </tr>\n",
       "    <tr>\n",
       "      <th>21</th>\n",
       "      <td>8.3</td>\n",
       "      <td>3.8</td>\n",
       "      <td>True</td>\n",
       "    </tr>\n",
       "    <tr>\n",
       "      <th>22</th>\n",
       "      <td>None</td>\n",
       "      <td>None</td>\n",
       "      <td>False</td>\n",
       "    </tr>\n",
       "    <tr>\n",
       "      <th>23</th>\n",
       "      <td>49.7</td>\n",
       "      <td>22.2</td>\n",
       "      <td>True</td>\n",
       "    </tr>\n",
       "    <tr>\n",
       "      <th>24</th>\n",
       "      <td>15.5</td>\n",
       "      <td>23.0</td>\n",
       "      <td>True</td>\n",
       "    </tr>\n",
       "    <tr>\n",
       "      <th>25</th>\n",
       "      <td>None</td>\n",
       "      <td>None</td>\n",
       "      <td>False</td>\n",
       "    </tr>\n",
       "    <tr>\n",
       "      <th>26</th>\n",
       "      <td>3.5</td>\n",
       "      <td>None</td>\n",
       "      <td>False</td>\n",
       "    </tr>\n",
       "  </tbody>\n",
       "</table>\n",
       "</div>"
      ],
      "text/plain": [
       "   06/2018 01/2018  HasData\n",
       "0     17.0    20.5     True\n",
       "1      1.1     0.9     True\n",
       "2      1.6     0.9     True\n",
       "3      9.2     7.5     True\n",
       "4     None    None    False\n",
       "5      4.5     8.3     True\n",
       "6      1.8     2.1     True\n",
       "7      2.5     2.3     True\n",
       "8     11.3     4.4     True\n",
       "9      2.8     3.9     True\n",
       "10     0.0     3.0     True\n",
       "11     4.8     5.5     True\n",
       "12    12.0    12.2     True\n",
       "13    41.8    37.4     True\n",
       "14    45.4    12.4     True\n",
       "15    36.8     9.4     True\n",
       "16     2.4     3.8     True\n",
       "17     4.8     4.3     True\n",
       "18    None    None    False\n",
       "19    61.2    60.7     True\n",
       "20    69.8    42.3     True\n",
       "21     8.3     3.8     True\n",
       "22    None    None    False\n",
       "23    49.7    22.2     True\n",
       "24    15.5    23.0     True\n",
       "25    None    None    False\n",
       "26     3.5    None    False"
      ]
     },
     "execution_count": 46,
     "metadata": {},
     "output_type": "execute_result"
    }
   ],
   "source": [
    "pd.DataFrame(data=b, columns=a).assign(**{\"HasData\": [True, True, True, True, False, True, True, True, True, True, True, True, True, True, True, True, True, True, False, True, True, True, False, True, True, False, False]})\n",
    "\n"
   ]
  },
  {
   "cell_type": "code",
   "execution_count": 57,
   "metadata": {
    "ExecuteTime": {
     "end_time": "2018-10-18T23:23:34.596152Z",
     "start_time": "2018-10-18T23:23:34.593150Z"
    }
   },
   "outputs": [
    {
     "data": {
      "text/plain": [
       "0"
      ]
     },
     "execution_count": 57,
     "metadata": {},
     "output_type": "execute_result"
    }
   ],
   "source": [
    "max(-5,0)"
   ]
  },
  {
   "cell_type": "code",
   "execution_count": null,
   "metadata": {},
   "outputs": [],
   "source": []
  }
 ],
 "metadata": {
  "kernelspec": {
   "display_name": "Python 3",
   "language": "python",
   "name": "python3"
  },
  "language_info": {
   "codemirror_mode": {
    "name": "ipython",
    "version": 3
   },
   "file_extension": ".py",
   "mimetype": "text/x-python",
   "name": "python",
   "nbconvert_exporter": "python",
   "pygments_lexer": "ipython3",
   "version": "3.6.5"
  },
  "toc": {
   "base_numbering": 1,
   "nav_menu": {},
   "number_sections": true,
   "sideBar": true,
   "skip_h1_title": false,
   "title_cell": "Table of Contents",
   "title_sidebar": "Contents",
   "toc_cell": false,
   "toc_position": {},
   "toc_section_display": true,
   "toc_window_display": false
  }
 },
 "nbformat": 4,
 "nbformat_minor": 2
}
